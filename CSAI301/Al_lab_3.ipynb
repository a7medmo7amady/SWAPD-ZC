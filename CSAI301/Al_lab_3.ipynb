{
  "nbformat": 4,
  "nbformat_minor": 0,
  "metadata": {
    "colab": {
      "provenance": [],
      "toc_visible": true
    },
    "kernelspec": {
      "name": "python3",
      "display_name": "Python 3"
    },
    "language_info": {
      "name": "python"
    }
  },
  "cells": [
    {
      "cell_type": "code",
      "execution_count": null,
      "metadata": {
        "id": "WvXMD9qwIA2J"
      },
      "outputs": [],
      "source": [
        "import numpy as np\n",
        "import matplotlib.pyplot as plt"
      ]
    },
    {
      "cell_type": "code",
      "source": [
        "class Node:\n",
        "    def __init__(self, state, parent=None):\n",
        "        self.state = state\n",
        "        self.parent = parent\n",
        "        self.children = []\n",
        "\n",
        "    def add_child(self, child_node):\n",
        "        child_node.parent = self\n",
        "        self.children.append(child_node)\n",
        "\n",
        "    def path(self):\n",
        "        node, path_back = self, []\n",
        "        while node:\n",
        "            path_back.append(node.state)\n",
        "            node = node.parent\n",
        "        return list(reversed(path_back))\n"
      ],
      "metadata": {
        "id": "JV-I2brlJaIy"
      },
      "execution_count": null,
      "outputs": []
    },
    {
      "cell_type": "markdown",
      "source": [
        "#Task 1\n"
      ],
      "metadata": {
        "id": "79P6kuuLVJtN"
      }
    },
    {
      "cell_type": "code",
      "source": [
        "from collections import deque\n",
        "\n",
        "def bfs(root):\n",
        "    if not root:\n",
        "        return\n",
        "\n",
        "    queue = deque([root, None])\n",
        "\n",
        "    while queue:\n",
        "        node = queue.popleft()\n",
        "\n",
        "        if node is None:\n",
        "            if queue:\n",
        "                print()\n",
        "                queue.append(None)\n",
        "        else:\n",
        "            print(node.state, end=\" \")\n",
        "            for child in node.children:\n",
        "                queue.append(child)\n",
        "    print()"
      ],
      "metadata": {
        "id": "lMD9s-9mIHu8"
      },
      "execution_count": null,
      "outputs": []
    },
    {
      "cell_type": "code",
      "source": [
        "\n",
        "root = Node(\"A\")\n",
        "B = Node(\"B\"); C = Node(\"C\"); D = Node(\"D\")\n",
        "E = Node(\"E\"); F = Node(\"F\"); G = Node(\"G\")\n",
        "\n",
        "root.add_child(B); root.add_child(C); root.add_child(D)\n",
        "B.add_child(E); B.add_child(F)\n",
        "D.add_child(G)\n"
      ],
      "metadata": {
        "id": "9DDYhY14IpoM"
      },
      "execution_count": null,
      "outputs": []
    },
    {
      "cell_type": "code",
      "source": [
        "bfs(root)"
      ],
      "metadata": {
        "colab": {
          "base_uri": "https://localhost:8080/"
        },
        "id": "C-mAMxhaKAEx",
        "outputId": "2e2b3c03-452c-4f8d-8de6-c687d5fd6d1f"
      },
      "execution_count": null,
      "outputs": [
        {
          "output_type": "stream",
          "name": "stdout",
          "text": [
            "A \n",
            "B C D \n",
            "E F G \n"
          ]
        }
      ]
    },
    {
      "cell_type": "markdown",
      "source": [
        "#Task 2\n"
      ],
      "metadata": {
        "id": "46CoiTNrVELV"
      }
    },
    {
      "cell_type": "code",
      "source": [],
      "metadata": {
        "id": "iq9gSF2-VCss"
      },
      "execution_count": null,
      "outputs": []
    },
    {
      "cell_type": "markdown",
      "source": [
        "##Task 1 DFS"
      ],
      "metadata": {
        "id": "e24s37-vVRfD"
      }
    },
    {
      "cell_type": "code",
      "source": [
        "def dfs(root, goal):\n",
        "    stack = [root]\n",
        "    visited = set()\n",
        "\n",
        "    while stack:\n",
        "        node = stack.pop()\n",
        "        if node.state in visited:\n",
        "            continue\n",
        "        visited.add(node.state)\n",
        "\n",
        "        print(node.state, end=\" \")\n",
        "\n",
        "        if node.state == goal:\n",
        "            return node.path()\n",
        "\n",
        "        # Reverse to maintain left-to-right order\n",
        "        stack.extend(reversed(node.children))\n",
        "    return None"
      ],
      "metadata": {
        "id": "f4v0veFyVZBF"
      },
      "execution_count": null,
      "outputs": []
    },
    {
      "cell_type": "code",
      "source": [
        "def postorder(root):\n",
        "    if not root:\n",
        "        return []\n",
        "\n",
        "    stack1 = [root]\n",
        "    stack2 = []\n",
        "\n",
        "    while stack1:\n",
        "        node = stack1.pop()\n",
        "        stack2.append(node)\n",
        "        stack1.extend(node.children)\n",
        "\n",
        "    return [n.state for n in reversed(stack2)]"
      ],
      "metadata": {
        "id": "LdJGASjDVfJB"
      },
      "execution_count": null,
      "outputs": []
    },
    {
      "cell_type": "code",
      "source": [
        "\n",
        "root = Node(\"A\")\n",
        "B = Node(\"B\"); C = Node(\"C\"); D = Node(\"D\")\n",
        "E = Node(\"E\"); F = Node(\"F\"); G = Node(\"G\")\n",
        "\n",
        "root.add_child(B); root.add_child(C); root.add_child(D)\n",
        "B.add_child(E); B.add_child(F)\n",
        "D.add_child(G)"
      ],
      "metadata": {
        "id": "a1ESrkDbXisP"
      },
      "execution_count": null,
      "outputs": []
    },
    {
      "cell_type": "code",
      "source": [
        "postorder(root)"
      ],
      "metadata": {
        "colab": {
          "base_uri": "https://localhost:8080/"
        },
        "id": "JBVOSFH5Xjzd",
        "outputId": "273e0a92-d49a-4837-e460-5732e80605f6"
      },
      "execution_count": null,
      "outputs": [
        {
          "output_type": "execute_result",
          "data": {
            "text/plain": [
              "['E', 'F', 'B', 'C', 'G', 'D', 'A']"
            ]
          },
          "metadata": {},
          "execution_count": 75
        }
      ]
    },
    {
      "cell_type": "code",
      "source": [
        "def preorder(root):\n",
        "    if not root:\n",
        "        return []\n",
        "\n",
        "    result = []\n",
        "    stack = [root]\n",
        "\n",
        "    while stack:\n",
        "        node = stack.pop()\n",
        "        result.append(node.state)\n",
        "        stack.extend(reversed(node.children))\n",
        "\n",
        "    return result\n"
      ],
      "metadata": {
        "id": "iKVjfNZ6ZRao"
      },
      "execution_count": null,
      "outputs": []
    },
    {
      "cell_type": "code",
      "source": [
        "\n",
        "root = Node(\"A\")\n",
        "B = Node(\"B\"); C = Node(\"C\"); D = Node(\"D\")\n",
        "E = Node(\"E\"); F = Node(\"F\"); G = Node(\"G\")\n",
        "\n",
        "root.add_child(B); root.add_child(C); root.add_child(D)\n",
        "B.add_child(E); B.add_child(F)\n",
        "D.add_child(G)"
      ],
      "metadata": {
        "id": "VVxUhJ4MZUi9"
      },
      "execution_count": null,
      "outputs": []
    },
    {
      "cell_type": "code",
      "source": [
        "preorder(root)"
      ],
      "metadata": {
        "colab": {
          "base_uri": "https://localhost:8080/"
        },
        "id": "4ue99wfqZVx0",
        "outputId": "dea9c185-c7c0-49d5-c457-3a088a0b73e5"
      },
      "execution_count": null,
      "outputs": [
        {
          "output_type": "execute_result",
          "data": {
            "text/plain": [
              "['A', 'B', 'E', 'F', 'C', 'D', 'G']"
            ]
          },
          "metadata": {},
          "execution_count": 78
        }
      ]
    },
    {
      "cell_type": "code",
      "source": [
        "def inorder(root):\n",
        "    if not root:\n",
        "        return []\n",
        "\n",
        "    result = []\n",
        "\n",
        "    if root.children:\n",
        "        result += inorder(root.children[0])\n",
        "\n",
        "    result.append(root.state)\n",
        "\n",
        "    for child in root.children[1:]:\n",
        "        result += inorder(child)\n",
        "\n",
        "    return result\n"
      ],
      "metadata": {
        "id": "K1EGi9NWaV9S"
      },
      "execution_count": null,
      "outputs": []
    },
    {
      "cell_type": "code",
      "source": [
        "inorder(root)"
      ],
      "metadata": {
        "colab": {
          "base_uri": "https://localhost:8080/"
        },
        "id": "DrcW3oDEab2r",
        "outputId": "ce4e180b-12bf-4e1e-ceb4-ce6783420145"
      },
      "execution_count": null,
      "outputs": [
        {
          "output_type": "execute_result",
          "data": {
            "text/plain": [
              "['E', 'B', 'F', 'A', 'C', 'G', 'D']"
            ]
          },
          "metadata": {},
          "execution_count": 84
        }
      ]
    }
  ]
}