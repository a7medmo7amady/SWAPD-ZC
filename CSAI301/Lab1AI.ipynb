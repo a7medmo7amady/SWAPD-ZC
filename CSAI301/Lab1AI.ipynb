{
  "nbformat": 4,
  "nbformat_minor": 0,
  "metadata": {
    "colab": {
      "provenance": []
    },
    "kernelspec": {
      "name": "python3",
      "display_name": "Python 3"
    },
    "language_info": {
      "name": "python"
    }
  },
  "cells": [
    {
      "cell_type": "code",
      "execution_count": null,
      "metadata": {
        "id": "67fZsuzoEiOA"
      },
      "outputs": [],
      "source": [
        "import numpy as np\n",
        "import random"
      ]
    },
    {
      "cell_type": "code",
      "source": [
        "class Agent:\n",
        "    def __init__(self, name = \"An Agent\"):\n",
        "        # self.position = initial_position # this is the state of the agent\n",
        "        self.name = name\n",
        "        self.prev_temp = None\n",
        "\n",
        "    def act(self, cooler, heater, temp ):\n",
        "        # print(\"    \", self.name, \": My percept_blocked is\", percept_blocked, \"and I am now in position\", self.position)\n",
        "        if temp == self.prev_temp :\n",
        "            cooler = True\n",
        "            heater = False\n",
        "            print(\"Temperature is the same as before, turning on cooler.\")\n",
        "        elif(temp>35):\n",
        "          heater = True\n",
        "          cooler = False\n",
        "          print(\"Heater is on\")\n",
        "        elif(temp<20):\n",
        "          cooler = True\n",
        "          heater = False\n",
        "          print(\"Cooler is on\")\n",
        "        else:\n",
        "          cooler = False\n",
        "          heater = False\n",
        "          print(\"None of them is on\")\n",
        "\n",
        "        self.prev_temp = temp\n",
        "\n",
        "        return cooler, heater"
      ],
      "metadata": {
        "id": "cDw2FtfNFQyr"
      },
      "execution_count": null,
      "outputs": []
    },
    {
      "cell_type": "code",
      "source": [
        "def agent_environment():\n",
        "    agent = Agent()\n",
        "    # agent_position = 0 # this is the environment's state. The agent cannot see it\n",
        "    for i in range(5):\n",
        "        cooler = False\n",
        "        heater = False\n",
        "        temp = random.randint(15, 50)\n",
        "\n",
        "        cooler, heater = agent.act(cooler, heater, temp=temp)\n",
        "\n",
        "        print(\"iteration\", i+1)\n",
        "        # print(i+1)\n",
        "        print(\"Temperature is\", temp)\n",
        "        # print(temp)\n",
        "        print(\"Cooler is\",cooler)\n",
        "        # print(cooler)\n",
        "        print(\"heater is\",heater)\n",
        "        # print(cooler)\n",
        "agent_environment()"
      ],
      "metadata": {
        "id": "RkQZ2gBXHSmR",
        "colab": {
          "base_uri": "https://localhost:8080/"
        },
        "outputId": "3bb5a10d-4396-4e51-eb3d-6c445bb43e94"
      },
      "execution_count": null,
      "outputs": [
        {
          "output_type": "stream",
          "name": "stdout",
          "text": [
            "Cooler is on\n",
            "iteration 1\n",
            "Temperature is 16\n",
            "Cooler is True\n",
            "heater is False\n",
            "Cooler is on\n",
            "iteration 2\n",
            "Temperature is 19\n",
            "Cooler is True\n",
            "heater is False\n",
            "Heater is on\n",
            "iteration 3\n",
            "Temperature is 45\n",
            "Cooler is False\n",
            "heater is True\n",
            "Temperature is the same as before, turning on cooler.\n",
            "iteration 4\n",
            "Temperature is 45\n",
            "Cooler is True\n",
            "heater is False\n",
            "Cooler is on\n",
            "iteration 5\n",
            "Temperature is 15\n",
            "Cooler is True\n",
            "heater is False\n"
          ]
        }
      ]
    },
    {
      "cell_type": "code",
      "source": [],
      "metadata": {
        "id": "gmkESrkLOdnu"
      },
      "execution_count": null,
      "outputs": []
    }
  ]
}